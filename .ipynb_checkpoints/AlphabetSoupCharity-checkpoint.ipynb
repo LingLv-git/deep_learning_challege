{
 "cells": [
  {
   "cell_type": "code",
   "execution_count": 3,
   "metadata": {
    "colab": {
     "base_uri": "https://localhost:8080/",
     "height": 445
    },
    "executionInfo": {
     "elapsed": 272,
     "status": "ok",
     "timestamp": 1636944527979,
     "user": {
      "displayName": "Ling Lu",
      "photoUrl": "https://lh3.googleusercontent.com/a-/AOh14GjkcN9FIXS8JJleW8MowIcg2yWO8DEZkig7Vh83=s64",
      "userId": "13650241475503593941"
     },
     "user_tz": 300
    },
    "id": "8HskInI7dcoP",
    "outputId": "b23f7726-f967-4c8c-8b26-7f621a993034"
   },
   "outputs": [
    {
     "data": {
      "text/html": [
       "<div>\n",
       "<style scoped>\n",
       "    .dataframe tbody tr th:only-of-type {\n",
       "        vertical-align: middle;\n",
       "    }\n",
       "\n",
       "    .dataframe tbody tr th {\n",
       "        vertical-align: top;\n",
       "    }\n",
       "\n",
       "    .dataframe thead th {\n",
       "        text-align: right;\n",
       "    }\n",
       "</style>\n",
       "<table border=\"1\" class=\"dataframe\">\n",
       "  <thead>\n",
       "    <tr style=\"text-align: right;\">\n",
       "      <th></th>\n",
       "      <th>EIN</th>\n",
       "      <th>NAME</th>\n",
       "      <th>APPLICATION_TYPE</th>\n",
       "      <th>AFFILIATION</th>\n",
       "      <th>CLASSIFICATION</th>\n",
       "      <th>USE_CASE</th>\n",
       "      <th>ORGANIZATION</th>\n",
       "      <th>STATUS</th>\n",
       "      <th>INCOME_AMT</th>\n",
       "      <th>SPECIAL_CONSIDERATIONS</th>\n",
       "      <th>ASK_AMT</th>\n",
       "      <th>IS_SUCCESSFUL</th>\n",
       "    </tr>\n",
       "  </thead>\n",
       "  <tbody>\n",
       "    <tr>\n",
       "      <th>0</th>\n",
       "      <td>10520599</td>\n",
       "      <td>BLUE KNIGHTS MOTORCYCLE CLUB</td>\n",
       "      <td>T10</td>\n",
       "      <td>Independent</td>\n",
       "      <td>C1000</td>\n",
       "      <td>ProductDev</td>\n",
       "      <td>Association</td>\n",
       "      <td>1</td>\n",
       "      <td>0</td>\n",
       "      <td>N</td>\n",
       "      <td>5000</td>\n",
       "      <td>1</td>\n",
       "    </tr>\n",
       "    <tr>\n",
       "      <th>1</th>\n",
       "      <td>10531628</td>\n",
       "      <td>AMERICAN CHESAPEAKE CLUB CHARITABLE TR</td>\n",
       "      <td>T3</td>\n",
       "      <td>Independent</td>\n",
       "      <td>C2000</td>\n",
       "      <td>Preservation</td>\n",
       "      <td>Co-operative</td>\n",
       "      <td>1</td>\n",
       "      <td>1-9999</td>\n",
       "      <td>N</td>\n",
       "      <td>108590</td>\n",
       "      <td>1</td>\n",
       "    </tr>\n",
       "    <tr>\n",
       "      <th>2</th>\n",
       "      <td>10547893</td>\n",
       "      <td>ST CLOUD PROFESSIONAL FIREFIGHTERS</td>\n",
       "      <td>T5</td>\n",
       "      <td>CompanySponsored</td>\n",
       "      <td>C3000</td>\n",
       "      <td>ProductDev</td>\n",
       "      <td>Association</td>\n",
       "      <td>1</td>\n",
       "      <td>0</td>\n",
       "      <td>N</td>\n",
       "      <td>5000</td>\n",
       "      <td>0</td>\n",
       "    </tr>\n",
       "    <tr>\n",
       "      <th>3</th>\n",
       "      <td>10553066</td>\n",
       "      <td>SOUTHSIDE ATHLETIC ASSOCIATION</td>\n",
       "      <td>T3</td>\n",
       "      <td>CompanySponsored</td>\n",
       "      <td>C2000</td>\n",
       "      <td>Preservation</td>\n",
       "      <td>Trust</td>\n",
       "      <td>1</td>\n",
       "      <td>10000-24999</td>\n",
       "      <td>N</td>\n",
       "      <td>6692</td>\n",
       "      <td>1</td>\n",
       "    </tr>\n",
       "    <tr>\n",
       "      <th>4</th>\n",
       "      <td>10556103</td>\n",
       "      <td>GENETIC RESEARCH INSTITUTE OF THE DESERT</td>\n",
       "      <td>T3</td>\n",
       "      <td>Independent</td>\n",
       "      <td>C1000</td>\n",
       "      <td>Heathcare</td>\n",
       "      <td>Trust</td>\n",
       "      <td>1</td>\n",
       "      <td>100000-499999</td>\n",
       "      <td>N</td>\n",
       "      <td>142590</td>\n",
       "      <td>1</td>\n",
       "    </tr>\n",
       "  </tbody>\n",
       "</table>\n",
       "</div>"
      ],
      "text/plain": [
       "        EIN                                      NAME APPLICATION_TYPE  \\\n",
       "0  10520599              BLUE KNIGHTS MOTORCYCLE CLUB              T10   \n",
       "1  10531628    AMERICAN CHESAPEAKE CLUB CHARITABLE TR               T3   \n",
       "2  10547893        ST CLOUD PROFESSIONAL FIREFIGHTERS               T5   \n",
       "3  10553066            SOUTHSIDE ATHLETIC ASSOCIATION               T3   \n",
       "4  10556103  GENETIC RESEARCH INSTITUTE OF THE DESERT               T3   \n",
       "\n",
       "        AFFILIATION CLASSIFICATION      USE_CASE  ORGANIZATION  STATUS  \\\n",
       "0       Independent          C1000    ProductDev   Association       1   \n",
       "1       Independent          C2000  Preservation  Co-operative       1   \n",
       "2  CompanySponsored          C3000    ProductDev   Association       1   \n",
       "3  CompanySponsored          C2000  Preservation         Trust       1   \n",
       "4       Independent          C1000     Heathcare         Trust       1   \n",
       "\n",
       "      INCOME_AMT SPECIAL_CONSIDERATIONS  ASK_AMT  IS_SUCCESSFUL  \n",
       "0              0                      N     5000              1  \n",
       "1         1-9999                      N   108590              1  \n",
       "2              0                      N     5000              0  \n",
       "3    10000-24999                      N     6692              1  \n",
       "4  100000-499999                      N   142590              1  "
      ]
     },
     "execution_count": 3,
     "metadata": {},
     "output_type": "execute_result"
    }
   ],
   "source": [
    "# Import our dependencies\n",
    "from sklearn.model_selection import train_test_split\n",
    "from sklearn.preprocessing import StandardScaler\n",
    "import pandas as pd\n",
    "import tensorflow as tf\n",
    "\n",
    "#  Import and read the charity_data.csv.\n",
    "application_df = pd.read_csv(\"./Resources/charity_data.csv\")\n",
    "application_df.head()"
   ]
  },
  {
   "cell_type": "code",
   "execution_count": 3,
   "metadata": {
    "colab": {
     "base_uri": "https://localhost:8080/"
    },
    "executionInfo": {
     "elapsed": 92,
     "status": "ok",
     "timestamp": 1636944531378,
     "user": {
      "displayName": "Ling Lu",
      "photoUrl": "https://lh3.googleusercontent.com/a-/AOh14GjkcN9FIXS8JJleW8MowIcg2yWO8DEZkig7Vh83=s64",
      "userId": "13650241475503593941"
     },
     "user_tz": 300
    },
    "id": "fbz5QL38pCzF",
    "outputId": "9dec544f-02c9-48b7-a8af-baac5b951e0f"
   },
   "outputs": [
    {
     "data": {
      "text/plain": [
       "(34299, 12)"
      ]
     },
     "execution_count": 3,
     "metadata": {},
     "output_type": "execute_result"
    }
   ],
   "source": [
    "application_df.shape"
   ]
  },
  {
   "cell_type": "code",
   "execution_count": 4,
   "metadata": {
    "executionInfo": {
     "elapsed": 95,
     "status": "ok",
     "timestamp": 1636944532716,
     "user": {
      "displayName": "Ling Lu",
      "photoUrl": "https://lh3.googleusercontent.com/a-/AOh14GjkcN9FIXS8JJleW8MowIcg2yWO8DEZkig7Vh83=s64",
      "userId": "13650241475503593941"
     },
     "user_tz": 300
    },
    "id": "9CseDqlSdcoT"
   },
   "outputs": [],
   "source": [
    "# Drop the non-beneficial ID columns, 'EIN' and 'NAME'.\n",
    "application_df.drop(columns=[\"EIN\", \"NAME\"], inplace=True)"
   ]
  },
  {
   "cell_type": "code",
   "execution_count": 5,
   "metadata": {
    "colab": {
     "base_uri": "https://localhost:8080/"
    },
    "executionInfo": {
     "elapsed": 283,
     "status": "ok",
     "timestamp": 1636944533990,
     "user": {
      "displayName": "Ling Lu",
      "photoUrl": "https://lh3.googleusercontent.com/a-/AOh14GjkcN9FIXS8JJleW8MowIcg2yWO8DEZkig7Vh83=s64",
      "userId": "13650241475503593941"
     },
     "user_tz": 300
    },
    "id": "O1xdII6vdcoU",
    "outputId": "cb9673b4-0ee5-4d3f-b4df-4870148b105d"
   },
   "outputs": [
    {
     "name": "stdout",
     "output_type": "stream",
     "text": [
      "Count of unique value in each column :\n",
      "APPLICATION_TYPE            17\n",
      "AFFILIATION                  6\n",
      "CLASSIFICATION              71\n",
      "USE_CASE                     5\n",
      "ORGANIZATION                 4\n",
      "STATUS                       2\n",
      "INCOME_AMT                   9\n",
      "SPECIAL_CONSIDERATIONS       2\n",
      "ASK_AMT                   8747\n",
      "IS_SUCCESSFUL                2\n",
      "dtype: int64\n"
     ]
    }
   ],
   "source": [
    "# Determine the number of unique values in each column.\n",
    "uniqueValues = application_df.nunique()\n",
    "print('Count of unique value in each column :')\n",
    "print(uniqueValues)"
   ]
  },
  {
   "cell_type": "code",
   "execution_count": 6,
   "metadata": {
    "colab": {
     "base_uri": "https://localhost:8080/"
    },
    "executionInfo": {
     "elapsed": 92,
     "status": "ok",
     "timestamp": 1636944536243,
     "user": {
      "displayName": "Ling Lu",
      "photoUrl": "https://lh3.googleusercontent.com/a-/AOh14GjkcN9FIXS8JJleW8MowIcg2yWO8DEZkig7Vh83=s64",
      "userId": "13650241475503593941"
     },
     "user_tz": 300
    },
    "id": "Am1I2mH_dcoV",
    "outputId": "0dc39f8c-90ce-4426-f72b-a3fd11d59143"
   },
   "outputs": [
    {
     "data": {
      "text/plain": [
       "T3     27037\n",
       "T4      1542\n",
       "T6      1216\n",
       "T5      1173\n",
       "T19     1065\n",
       "T8       737\n",
       "T7       725\n",
       "T10      528\n",
       "T9       156\n",
       "T13       66\n",
       "T12       27\n",
       "T2        16\n",
       "T25        3\n",
       "T14        3\n",
       "T29        2\n",
       "T15        2\n",
       "T17        1\n",
       "Name: APPLICATION_TYPE, dtype: int64"
      ]
     },
     "execution_count": 6,
     "metadata": {},
     "output_type": "execute_result"
    }
   ],
   "source": [
    "# Look at APPLICATION_TYPE value counts for binning\n",
    "application_df[\"APPLICATION_TYPE\"].value_counts()"
   ]
  },
  {
   "cell_type": "code",
   "execution_count": 7,
   "metadata": {
    "colab": {
     "base_uri": "https://localhost:8080/"
    },
    "executionInfo": {
     "elapsed": 106,
     "status": "ok",
     "timestamp": 1636944544702,
     "user": {
      "displayName": "Ling Lu",
      "photoUrl": "https://lh3.googleusercontent.com/a-/AOh14GjkcN9FIXS8JJleW8MowIcg2yWO8DEZkig7Vh83=s64",
      "userId": "13650241475503593941"
     },
     "user_tz": 300
    },
    "id": "5KyWxT3LdcoW",
    "outputId": "123589c7-e8cf-42c1-d2b3-09f605619b7e"
   },
   "outputs": [
    {
     "data": {
      "text/plain": [
       "T3       27037\n",
       "T4        1542\n",
       "T6        1216\n",
       "T5        1173\n",
       "T19       1065\n",
       "T8         737\n",
       "T7         725\n",
       "T10        528\n",
       "Other      276\n",
       "Name: APPLICATION_TYPE, dtype: int64"
      ]
     },
     "execution_count": 7,
     "metadata": {},
     "output_type": "execute_result"
    }
   ],
   "source": [
    "# Choose a cutoff value and create a list of application types to be replaced\n",
    "# use the variable name `application_types_to_replace`\n",
    "application_types_to_replace = application_df[\"APPLICATION_TYPE\"].value_counts()[application_df[\"APPLICATION_TYPE\"].value_counts()<528].index\n",
    "# Replace in dataframe\n",
    "for app in application_types_to_replace:\n",
    "    application_df['APPLICATION_TYPE'] = application_df['APPLICATION_TYPE'].replace(app,\"Other\")\n",
    "\n",
    "# Check to make sure binning was successful\n",
    "application_df['APPLICATION_TYPE'].value_counts()"
   ]
  },
  {
   "cell_type": "code",
   "execution_count": 8,
   "metadata": {
    "colab": {
     "base_uri": "https://localhost:8080/"
    },
    "executionInfo": {
     "elapsed": 91,
     "status": "ok",
     "timestamp": 1636944546906,
     "user": {
      "displayName": "Ling Lu",
      "photoUrl": "https://lh3.googleusercontent.com/a-/AOh14GjkcN9FIXS8JJleW8MowIcg2yWO8DEZkig7Vh83=s64",
      "userId": "13650241475503593941"
     },
     "user_tz": 300
    },
    "id": "M98Kwye5dcoX",
    "outputId": "71aebc89-64fe-4c7b-a16c-14d8acca3043"
   },
   "outputs": [
    {
     "data": {
      "text/plain": [
       "C1000    17326\n",
       "C2000     6074\n",
       "C1200     4837\n",
       "C3000     1918\n",
       "C2100     1883\n",
       "         ...  \n",
       "C2561        1\n",
       "C1580        1\n",
       "C2170        1\n",
       "C2570        1\n",
       "C4120        1\n",
       "Name: CLASSIFICATION, Length: 71, dtype: int64"
      ]
     },
     "execution_count": 8,
     "metadata": {},
     "output_type": "execute_result"
    }
   ],
   "source": [
    "# Look at CLASSIFICATION value counts for binning\n",
    "application_df['CLASSIFICATION'].value_counts()"
   ]
  },
  {
   "cell_type": "code",
   "execution_count": 9,
   "metadata": {
    "colab": {
     "base_uri": "https://localhost:8080/"
    },
    "executionInfo": {
     "elapsed": 109,
     "status": "ok",
     "timestamp": 1636944549268,
     "user": {
      "displayName": "Ling Lu",
      "photoUrl": "https://lh3.googleusercontent.com/a-/AOh14GjkcN9FIXS8JJleW8MowIcg2yWO8DEZkig7Vh83=s64",
      "userId": "13650241475503593941"
     },
     "user_tz": 300
    },
    "id": "gBRgEcNYdcoZ",
    "outputId": "8fa32c0b-ee12-4517-c339-367b22d060d2"
   },
   "outputs": [
    {
     "data": {
      "text/plain": [
       "C1000    17326\n",
       "C2000     6074\n",
       "C1200     4837\n",
       "C3000     1918\n",
       "C2100     1883\n",
       "C7000      777\n",
       "C1700      287\n",
       "C4000      194\n",
       "C5000      116\n",
       "C1270      114\n",
       "C2700      104\n",
       "C2800       95\n",
       "C7100       75\n",
       "C1300       58\n",
       "C1280       50\n",
       "C1230       36\n",
       "C1400       34\n",
       "C7200       32\n",
       "C2300       32\n",
       "C1240       30\n",
       "C8000       20\n",
       "C7120       18\n",
       "C1500       16\n",
       "C6000       15\n",
       "C1800       15\n",
       "C1250       14\n",
       "C8200       11\n",
       "C1278       10\n",
       "C1238       10\n",
       "C1235        9\n",
       "C1237        9\n",
       "C7210        7\n",
       "C2400        6\n",
       "C4100        6\n",
       "C1720        6\n",
       "C1257        5\n",
       "C1600        5\n",
       "C0           3\n",
       "C2710        3\n",
       "C1260        3\n",
       "C1267        2\n",
       "C1234        2\n",
       "C3200        2\n",
       "C1246        2\n",
       "C1256        2\n",
       "Name: CLASSIFICATION, dtype: int64"
      ]
     },
     "execution_count": 9,
     "metadata": {},
     "output_type": "execute_result"
    }
   ],
   "source": [
    "# You may find it helpful to look at CLASSIFICATION value counts >1\n",
    "application_df['CLASSIFICATION'].value_counts()[application_df['CLASSIFICATION'].value_counts()>1]"
   ]
  },
  {
   "cell_type": "code",
   "execution_count": 10,
   "metadata": {
    "colab": {
     "base_uri": "https://localhost:8080/"
    },
    "executionInfo": {
     "elapsed": 225,
     "status": "ok",
     "timestamp": 1636944552160,
     "user": {
      "displayName": "Ling Lu",
      "photoUrl": "https://lh3.googleusercontent.com/a-/AOh14GjkcN9FIXS8JJleW8MowIcg2yWO8DEZkig7Vh83=s64",
      "userId": "13650241475503593941"
     },
     "user_tz": 300
    },
    "id": "UIU9n3Gtdcoa",
    "outputId": "f2144776-c8cd-4e8a-f906-9f0af0b75fbe"
   },
   "outputs": [
    {
     "data": {
      "text/plain": [
       "C1000    17326\n",
       "C2000     6074\n",
       "C1200     4837\n",
       "Other     2261\n",
       "C3000     1918\n",
       "C2100     1883\n",
       "Name: CLASSIFICATION, dtype: int64"
      ]
     },
     "execution_count": 10,
     "metadata": {},
     "output_type": "execute_result"
    }
   ],
   "source": [
    "# Choose a cutoff value and create a list of classifications to be replaced\n",
    "# use the variable name `classifications_to_replace`\n",
    "classifications_to_replace=application_df['CLASSIFICATION'].value_counts()[application_df['CLASSIFICATION'].value_counts()<1883].index\n",
    "# Replace in dataframe\n",
    "for cls in classifications_to_replace:\n",
    "    application_df['CLASSIFICATION'] = application_df['CLASSIFICATION'].replace(cls,\"Other\")\n",
    "    \n",
    "# Check to make sure binning was successful\n",
    "application_df['CLASSIFICATION'].value_counts()"
   ]
  },
  {
   "cell_type": "code",
   "execution_count": 11,
   "metadata": {
    "executionInfo": {
     "elapsed": 96,
     "status": "ok",
     "timestamp": 1636944554530,
     "user": {
      "displayName": "Ling Lu",
      "photoUrl": "https://lh3.googleusercontent.com/a-/AOh14GjkcN9FIXS8JJleW8MowIcg2yWO8DEZkig7Vh83=s64",
      "userId": "13650241475503593941"
     },
     "user_tz": 300
    },
    "id": "TMI4eyCJdcob"
   },
   "outputs": [],
   "source": [
    "# Convert categorical data to numeric with `pd.get_dummies`\n",
    "application_encode_df=pd.get_dummies(application_df)"
   ]
  },
  {
   "cell_type": "code",
   "execution_count": 25,
   "metadata": {
    "colab": {
     "base_uri": "https://localhost:8080/"
    },
    "executionInfo": {
     "elapsed": 94,
     "status": "ok",
     "timestamp": 1636947050782,
     "user": {
      "displayName": "Ling Lu",
      "photoUrl": "https://lh3.googleusercontent.com/a-/AOh14GjkcN9FIXS8JJleW8MowIcg2yWO8DEZkig7Vh83=s64",
      "userId": "13650241475503593941"
     },
     "user_tz": 300
    },
    "id": "fFykE6yhqSck",
    "outputId": "0cebe636-2ba7-4138-e7e0-3ff72a6233b7"
   },
   "outputs": [
    {
     "data": {
      "text/plain": [
       "(34299, 44)"
      ]
     },
     "execution_count": 25,
     "metadata": {},
     "output_type": "execute_result"
    }
   ],
   "source": [
    "application_encode_df.shape"
   ]
  },
  {
   "cell_type": "code",
   "execution_count": 26,
   "metadata": {
    "colab": {
     "base_uri": "https://localhost:8080/",
     "height": 241
    },
    "executionInfo": {
     "elapsed": 172,
     "status": "ok",
     "timestamp": 1636947079906,
     "user": {
      "displayName": "Ling Lu",
      "photoUrl": "https://lh3.googleusercontent.com/a-/AOh14GjkcN9FIXS8JJleW8MowIcg2yWO8DEZkig7Vh83=s64",
      "userId": "13650241475503593941"
     },
     "user_tz": 300
    },
    "id": "kmNp0s5Bpg0g",
    "outputId": "a1b56ad2-a378-4786-ff60-39413b81df4b"
   },
   "outputs": [
    {
     "data": {
      "text/html": [
       "<div>\n",
       "<style scoped>\n",
       "    .dataframe tbody tr th:only-of-type {\n",
       "        vertical-align: middle;\n",
       "    }\n",
       "\n",
       "    .dataframe tbody tr th {\n",
       "        vertical-align: top;\n",
       "    }\n",
       "\n",
       "    .dataframe thead th {\n",
       "        text-align: right;\n",
       "    }\n",
       "</style>\n",
       "<table border=\"1\" class=\"dataframe\">\n",
       "  <thead>\n",
       "    <tr style=\"text-align: right;\">\n",
       "      <th></th>\n",
       "      <th>STATUS</th>\n",
       "      <th>ASK_AMT</th>\n",
       "      <th>IS_SUCCESSFUL</th>\n",
       "      <th>APPLICATION_TYPE_Other</th>\n",
       "      <th>APPLICATION_TYPE_T10</th>\n",
       "      <th>APPLICATION_TYPE_T19</th>\n",
       "      <th>APPLICATION_TYPE_T3</th>\n",
       "      <th>APPLICATION_TYPE_T4</th>\n",
       "      <th>APPLICATION_TYPE_T5</th>\n",
       "      <th>APPLICATION_TYPE_T6</th>\n",
       "      <th>APPLICATION_TYPE_T7</th>\n",
       "      <th>APPLICATION_TYPE_T8</th>\n",
       "      <th>AFFILIATION_CompanySponsored</th>\n",
       "      <th>AFFILIATION_Family/Parent</th>\n",
       "      <th>AFFILIATION_Independent</th>\n",
       "      <th>AFFILIATION_National</th>\n",
       "      <th>AFFILIATION_Other</th>\n",
       "      <th>AFFILIATION_Regional</th>\n",
       "      <th>CLASSIFICATION_C1000</th>\n",
       "      <th>CLASSIFICATION_C1200</th>\n",
       "      <th>CLASSIFICATION_C2000</th>\n",
       "      <th>CLASSIFICATION_C2100</th>\n",
       "      <th>CLASSIFICATION_C3000</th>\n",
       "      <th>CLASSIFICATION_Other</th>\n",
       "      <th>USE_CASE_CommunityServ</th>\n",
       "      <th>USE_CASE_Heathcare</th>\n",
       "      <th>USE_CASE_Other</th>\n",
       "      <th>USE_CASE_Preservation</th>\n",
       "      <th>USE_CASE_ProductDev</th>\n",
       "      <th>ORGANIZATION_Association</th>\n",
       "      <th>ORGANIZATION_Co-operative</th>\n",
       "      <th>ORGANIZATION_Corporation</th>\n",
       "      <th>ORGANIZATION_Trust</th>\n",
       "      <th>INCOME_AMT_0</th>\n",
       "      <th>INCOME_AMT_1-9999</th>\n",
       "      <th>INCOME_AMT_10000-24999</th>\n",
       "      <th>INCOME_AMT_100000-499999</th>\n",
       "      <th>INCOME_AMT_10M-50M</th>\n",
       "      <th>INCOME_AMT_1M-5M</th>\n",
       "      <th>INCOME_AMT_25000-99999</th>\n",
       "      <th>INCOME_AMT_50M+</th>\n",
       "      <th>INCOME_AMT_5M-10M</th>\n",
       "      <th>SPECIAL_CONSIDERATIONS_N</th>\n",
       "      <th>SPECIAL_CONSIDERATIONS_Y</th>\n",
       "    </tr>\n",
       "  </thead>\n",
       "  <tbody>\n",
       "    <tr>\n",
       "      <th>0</th>\n",
       "      <td>1</td>\n",
       "      <td>5000</td>\n",
       "      <td>1</td>\n",
       "      <td>0</td>\n",
       "      <td>1</td>\n",
       "      <td>0</td>\n",
       "      <td>0</td>\n",
       "      <td>0</td>\n",
       "      <td>0</td>\n",
       "      <td>0</td>\n",
       "      <td>0</td>\n",
       "      <td>0</td>\n",
       "      <td>0</td>\n",
       "      <td>0</td>\n",
       "      <td>1</td>\n",
       "      <td>0</td>\n",
       "      <td>0</td>\n",
       "      <td>0</td>\n",
       "      <td>1</td>\n",
       "      <td>0</td>\n",
       "      <td>0</td>\n",
       "      <td>0</td>\n",
       "      <td>0</td>\n",
       "      <td>0</td>\n",
       "      <td>0</td>\n",
       "      <td>0</td>\n",
       "      <td>0</td>\n",
       "      <td>0</td>\n",
       "      <td>1</td>\n",
       "      <td>1</td>\n",
       "      <td>0</td>\n",
       "      <td>0</td>\n",
       "      <td>0</td>\n",
       "      <td>1</td>\n",
       "      <td>0</td>\n",
       "      <td>0</td>\n",
       "      <td>0</td>\n",
       "      <td>0</td>\n",
       "      <td>0</td>\n",
       "      <td>0</td>\n",
       "      <td>0</td>\n",
       "      <td>0</td>\n",
       "      <td>1</td>\n",
       "      <td>0</td>\n",
       "    </tr>\n",
       "    <tr>\n",
       "      <th>1</th>\n",
       "      <td>1</td>\n",
       "      <td>108590</td>\n",
       "      <td>1</td>\n",
       "      <td>0</td>\n",
       "      <td>0</td>\n",
       "      <td>0</td>\n",
       "      <td>1</td>\n",
       "      <td>0</td>\n",
       "      <td>0</td>\n",
       "      <td>0</td>\n",
       "      <td>0</td>\n",
       "      <td>0</td>\n",
       "      <td>0</td>\n",
       "      <td>0</td>\n",
       "      <td>1</td>\n",
       "      <td>0</td>\n",
       "      <td>0</td>\n",
       "      <td>0</td>\n",
       "      <td>0</td>\n",
       "      <td>0</td>\n",
       "      <td>1</td>\n",
       "      <td>0</td>\n",
       "      <td>0</td>\n",
       "      <td>0</td>\n",
       "      <td>0</td>\n",
       "      <td>0</td>\n",
       "      <td>0</td>\n",
       "      <td>1</td>\n",
       "      <td>0</td>\n",
       "      <td>0</td>\n",
       "      <td>1</td>\n",
       "      <td>0</td>\n",
       "      <td>0</td>\n",
       "      <td>0</td>\n",
       "      <td>1</td>\n",
       "      <td>0</td>\n",
       "      <td>0</td>\n",
       "      <td>0</td>\n",
       "      <td>0</td>\n",
       "      <td>0</td>\n",
       "      <td>0</td>\n",
       "      <td>0</td>\n",
       "      <td>1</td>\n",
       "      <td>0</td>\n",
       "    </tr>\n",
       "    <tr>\n",
       "      <th>2</th>\n",
       "      <td>1</td>\n",
       "      <td>5000</td>\n",
       "      <td>0</td>\n",
       "      <td>0</td>\n",
       "      <td>0</td>\n",
       "      <td>0</td>\n",
       "      <td>0</td>\n",
       "      <td>0</td>\n",
       "      <td>1</td>\n",
       "      <td>0</td>\n",
       "      <td>0</td>\n",
       "      <td>0</td>\n",
       "      <td>1</td>\n",
       "      <td>0</td>\n",
       "      <td>0</td>\n",
       "      <td>0</td>\n",
       "      <td>0</td>\n",
       "      <td>0</td>\n",
       "      <td>0</td>\n",
       "      <td>0</td>\n",
       "      <td>0</td>\n",
       "      <td>0</td>\n",
       "      <td>1</td>\n",
       "      <td>0</td>\n",
       "      <td>0</td>\n",
       "      <td>0</td>\n",
       "      <td>0</td>\n",
       "      <td>0</td>\n",
       "      <td>1</td>\n",
       "      <td>1</td>\n",
       "      <td>0</td>\n",
       "      <td>0</td>\n",
       "      <td>0</td>\n",
       "      <td>1</td>\n",
       "      <td>0</td>\n",
       "      <td>0</td>\n",
       "      <td>0</td>\n",
       "      <td>0</td>\n",
       "      <td>0</td>\n",
       "      <td>0</td>\n",
       "      <td>0</td>\n",
       "      <td>0</td>\n",
       "      <td>1</td>\n",
       "      <td>0</td>\n",
       "    </tr>\n",
       "    <tr>\n",
       "      <th>3</th>\n",
       "      <td>1</td>\n",
       "      <td>6692</td>\n",
       "      <td>1</td>\n",
       "      <td>0</td>\n",
       "      <td>0</td>\n",
       "      <td>0</td>\n",
       "      <td>1</td>\n",
       "      <td>0</td>\n",
       "      <td>0</td>\n",
       "      <td>0</td>\n",
       "      <td>0</td>\n",
       "      <td>0</td>\n",
       "      <td>1</td>\n",
       "      <td>0</td>\n",
       "      <td>0</td>\n",
       "      <td>0</td>\n",
       "      <td>0</td>\n",
       "      <td>0</td>\n",
       "      <td>0</td>\n",
       "      <td>0</td>\n",
       "      <td>1</td>\n",
       "      <td>0</td>\n",
       "      <td>0</td>\n",
       "      <td>0</td>\n",
       "      <td>0</td>\n",
       "      <td>0</td>\n",
       "      <td>0</td>\n",
       "      <td>1</td>\n",
       "      <td>0</td>\n",
       "      <td>0</td>\n",
       "      <td>0</td>\n",
       "      <td>0</td>\n",
       "      <td>1</td>\n",
       "      <td>0</td>\n",
       "      <td>0</td>\n",
       "      <td>1</td>\n",
       "      <td>0</td>\n",
       "      <td>0</td>\n",
       "      <td>0</td>\n",
       "      <td>0</td>\n",
       "      <td>0</td>\n",
       "      <td>0</td>\n",
       "      <td>1</td>\n",
       "      <td>0</td>\n",
       "    </tr>\n",
       "    <tr>\n",
       "      <th>4</th>\n",
       "      <td>1</td>\n",
       "      <td>142590</td>\n",
       "      <td>1</td>\n",
       "      <td>0</td>\n",
       "      <td>0</td>\n",
       "      <td>0</td>\n",
       "      <td>1</td>\n",
       "      <td>0</td>\n",
       "      <td>0</td>\n",
       "      <td>0</td>\n",
       "      <td>0</td>\n",
       "      <td>0</td>\n",
       "      <td>0</td>\n",
       "      <td>0</td>\n",
       "      <td>1</td>\n",
       "      <td>0</td>\n",
       "      <td>0</td>\n",
       "      <td>0</td>\n",
       "      <td>1</td>\n",
       "      <td>0</td>\n",
       "      <td>0</td>\n",
       "      <td>0</td>\n",
       "      <td>0</td>\n",
       "      <td>0</td>\n",
       "      <td>0</td>\n",
       "      <td>1</td>\n",
       "      <td>0</td>\n",
       "      <td>0</td>\n",
       "      <td>0</td>\n",
       "      <td>0</td>\n",
       "      <td>0</td>\n",
       "      <td>0</td>\n",
       "      <td>1</td>\n",
       "      <td>0</td>\n",
       "      <td>0</td>\n",
       "      <td>0</td>\n",
       "      <td>1</td>\n",
       "      <td>0</td>\n",
       "      <td>0</td>\n",
       "      <td>0</td>\n",
       "      <td>0</td>\n",
       "      <td>0</td>\n",
       "      <td>1</td>\n",
       "      <td>0</td>\n",
       "    </tr>\n",
       "  </tbody>\n",
       "</table>\n",
       "</div>"
      ],
      "text/plain": [
       "   STATUS  ASK_AMT  ...  SPECIAL_CONSIDERATIONS_N  SPECIAL_CONSIDERATIONS_Y\n",
       "0       1     5000  ...                         1                         0\n",
       "1       1   108590  ...                         1                         0\n",
       "2       1     5000  ...                         1                         0\n",
       "3       1     6692  ...                         1                         0\n",
       "4       1   142590  ...                         1                         0\n",
       "\n",
       "[5 rows x 44 columns]"
      ]
     },
     "execution_count": 26,
     "metadata": {},
     "output_type": "execute_result"
    }
   ],
   "source": [
    "application_encode_df.head()"
   ]
  },
  {
   "cell_type": "code",
   "execution_count": 13,
   "metadata": {
    "executionInfo": {
     "elapsed": 87,
     "status": "ok",
     "timestamp": 1636944558709,
     "user": {
      "displayName": "Ling Lu",
      "photoUrl": "https://lh3.googleusercontent.com/a-/AOh14GjkcN9FIXS8JJleW8MowIcg2yWO8DEZkig7Vh83=s64",
      "userId": "13650241475503593941"
     },
     "user_tz": 300
    },
    "id": "Uz8yG_nHdcob"
   },
   "outputs": [],
   "source": [
    "# Split our preprocessed data into our features and target arrays\n",
    "x=application_encode_df.drop(columns=[\"IS_SUCCESSFUL\"])\n",
    "y=application_encode_df[\"IS_SUCCESSFUL\"]\n",
    "# Split the preprocessed data into a training and testing dataset\n",
    "X_train, X_test, y_train, y_test=train_test_split(x, y, random_state=3)"
   ]
  },
  {
   "cell_type": "code",
   "execution_count": 14,
   "metadata": {
    "executionInfo": {
     "elapsed": 90,
     "status": "ok",
     "timestamp": 1636944559933,
     "user": {
      "displayName": "Ling Lu",
      "photoUrl": "https://lh3.googleusercontent.com/a-/AOh14GjkcN9FIXS8JJleW8MowIcg2yWO8DEZkig7Vh83=s64",
      "userId": "13650241475503593941"
     },
     "user_tz": 300
    },
    "id": "8DrJQSfbdcoc"
   },
   "outputs": [],
   "source": [
    "# Create a StandardScaler instances\n",
    "scaler = StandardScaler()\n",
    "\n",
    "# Fit the StandardScaler\n",
    "X_scaler = scaler.fit(X_train)\n",
    "\n",
    "# Scale the data\n",
    "X_train_scaled = X_scaler.transform(X_train)\n",
    "X_test_scaled = X_scaler.transform(X_test)"
   ]
  },
  {
   "cell_type": "code",
   "execution_count": 27,
   "metadata": {
    "colab": {
     "base_uri": "https://localhost:8080/"
    },
    "executionInfo": {
     "elapsed": 103,
     "status": "ok",
     "timestamp": 1636947266446,
     "user": {
      "displayName": "Ling Lu",
      "photoUrl": "https://lh3.googleusercontent.com/a-/AOh14GjkcN9FIXS8JJleW8MowIcg2yWO8DEZkig7Vh83=s64",
      "userId": "13650241475503593941"
     },
     "user_tz": 300
    },
    "id": "N4PJNPSztrJV",
    "outputId": "7e4f5764-955f-4927-e7c7-e5027dcf57bb"
   },
   "outputs": [
    {
     "data": {
      "text/plain": [
       "(25724, 43)"
      ]
     },
     "execution_count": 27,
     "metadata": {},
     "output_type": "execute_result"
    }
   ],
   "source": [
    "X_train_scaled.shape"
   ]
  },
  {
   "cell_type": "code",
   "execution_count": 29,
   "metadata": {
    "colab": {
     "base_uri": "https://localhost:8080/"
    },
    "executionInfo": {
     "elapsed": 100,
     "status": "ok",
     "timestamp": 1636947363570,
     "user": {
      "displayName": "Ling Lu",
      "photoUrl": "https://lh3.googleusercontent.com/a-/AOh14GjkcN9FIXS8JJleW8MowIcg2yWO8DEZkig7Vh83=s64",
      "userId": "13650241475503593941"
     },
     "user_tz": 300
    },
    "id": "WLIVatVUdcod",
    "outputId": "d5ffa340-54bd-42a3-abab-adcc48d60cdc"
   },
   "outputs": [
    {
     "name": "stdout",
     "output_type": "stream",
     "text": [
      "Model: \"sequential_1\"\n",
      "_________________________________________________________________\n",
      " Layer (type)                Output Shape              Param #   \n",
      "=================================================================\n",
      " dense_16 (Dense)            (None, 8)                 352       \n",
      "                                                                 \n",
      " dense_17 (Dense)            (None, 5)                 45        \n",
      "                                                                 \n",
      " dense_18 (Dense)            (None, 1)                 6         \n",
      "                                                                 \n",
      "=================================================================\n",
      "Total params: 403\n",
      "Trainable params: 403\n",
      "Non-trainable params: 0\n",
      "_________________________________________________________________\n"
     ]
    }
   ],
   "source": [
    "# Define the model - deep neural net, i.e., the number of input features and hidden nodes for each layer.\n",
    "number_input_features = X_train_scaled.shape[1]\n",
    "hidden_nodes_layer1 =  8\n",
    "hidden_nodes_layer2 = 5\n",
    "\n",
    "nn = tf.keras.models.Sequential()\n",
    "\n",
    "# First hidden layer\n",
    "\n",
    "nn.add(tf.keras.layers.Dense(units=hidden_nodes_layer1, activation=\"relu\", input_dim=number_input_features))\n",
    "# Second hidden layer\n",
    "\n",
    "nn.add(tf.keras.layers.Dense(units=hidden_nodes_layer2, activation=\"relu\"))\n",
    "# Output layer\n",
    "\n",
    "nn.add(tf.keras.layers.Dense(units=1, activation=\"sigmoid\"))\n",
    "# Check the structure of the model\n",
    "nn.summary()"
   ]
  },
  {
   "cell_type": "code",
   "execution_count": 30,
   "metadata": {
    "executionInfo": {
     "elapsed": 102,
     "status": "ok",
     "timestamp": 1636947368468,
     "user": {
      "displayName": "Ling Lu",
      "photoUrl": "https://lh3.googleusercontent.com/a-/AOh14GjkcN9FIXS8JJleW8MowIcg2yWO8DEZkig7Vh83=s64",
      "userId": "13650241475503593941"
     },
     "user_tz": 300
    },
    "id": "1Ru2Khtxdcod"
   },
   "outputs": [],
   "source": [
    "# Compile the model\n",
    "\n",
    "nn.compile(loss=\"binary_crossentropy\", optimizer=\"adam\", metrics=[\"accuracy\"])"
   ]
  },
  {
   "cell_type": "code",
   "execution_count": 31,
   "metadata": {
    "colab": {
     "base_uri": "https://localhost:8080/"
    },
    "executionInfo": {
     "elapsed": 142610,
     "status": "ok",
     "timestamp": 1636947517984,
     "user": {
      "displayName": "Ling Lu",
      "photoUrl": "https://lh3.googleusercontent.com/a-/AOh14GjkcN9FIXS8JJleW8MowIcg2yWO8DEZkig7Vh83=s64",
      "userId": "13650241475503593941"
     },
     "user_tz": 300
    },
    "id": "aqtiZwQRdcoe",
    "outputId": "deac70db-43c8-4972-cc35-ea79fde925c4"
   },
   "outputs": [
    {
     "name": "stdout",
     "output_type": "stream",
     "text": [
      "Epoch 1/100\n",
      "804/804 [==============================] - 2s 2ms/step - loss: 0.6328 - accuracy: 0.6367\n",
      "Epoch 2/100\n",
      "804/804 [==============================] - 1s 2ms/step - loss: 0.5670 - accuracy: 0.7192\n",
      "Epoch 3/100\n",
      "804/804 [==============================] - 1s 2ms/step - loss: 0.5587 - accuracy: 0.7254\n",
      "Epoch 4/100\n",
      "804/804 [==============================] - 1s 2ms/step - loss: 0.5559 - accuracy: 0.7285\n",
      "Epoch 5/100\n",
      "804/804 [==============================] - 1s 2ms/step - loss: 0.5545 - accuracy: 0.7294\n",
      "Epoch 6/100\n",
      "804/804 [==============================] - 1s 2ms/step - loss: 0.5534 - accuracy: 0.7309\n",
      "Epoch 7/100\n",
      "804/804 [==============================] - 1s 2ms/step - loss: 0.5529 - accuracy: 0.7315\n",
      "Epoch 8/100\n",
      "804/804 [==============================] - 1s 2ms/step - loss: 0.5523 - accuracy: 0.7321\n",
      "Epoch 9/100\n",
      "804/804 [==============================] - 1s 2ms/step - loss: 0.5521 - accuracy: 0.7320\n",
      "Epoch 10/100\n",
      "804/804 [==============================] - 1s 2ms/step - loss: 0.5517 - accuracy: 0.7320\n",
      "Epoch 11/100\n",
      "804/804 [==============================] - 1s 2ms/step - loss: 0.5513 - accuracy: 0.7327\n",
      "Epoch 12/100\n",
      "804/804 [==============================] - 1s 2ms/step - loss: 0.5513 - accuracy: 0.7331\n",
      "Epoch 13/100\n",
      "804/804 [==============================] - 1s 2ms/step - loss: 0.5509 - accuracy: 0.7336\n",
      "Epoch 14/100\n",
      "804/804 [==============================] - 1s 2ms/step - loss: 0.5506 - accuracy: 0.7329\n",
      "Epoch 15/100\n",
      "804/804 [==============================] - 1s 2ms/step - loss: 0.5504 - accuracy: 0.7327\n",
      "Epoch 16/100\n",
      "804/804 [==============================] - 1s 2ms/step - loss: 0.5502 - accuracy: 0.7328\n",
      "Epoch 17/100\n",
      "804/804 [==============================] - 1s 2ms/step - loss: 0.5501 - accuracy: 0.7330\n",
      "Epoch 18/100\n",
      "804/804 [==============================] - 1s 2ms/step - loss: 0.5499 - accuracy: 0.7330\n",
      "Epoch 19/100\n",
      "804/804 [==============================] - 1s 2ms/step - loss: 0.5495 - accuracy: 0.7330\n",
      "Epoch 20/100\n",
      "804/804 [==============================] - 1s 2ms/step - loss: 0.5496 - accuracy: 0.7330\n",
      "Epoch 21/100\n",
      "804/804 [==============================] - 1s 2ms/step - loss: 0.5495 - accuracy: 0.7333\n",
      "Epoch 22/100\n",
      "804/804 [==============================] - 1s 2ms/step - loss: 0.5494 - accuracy: 0.7328\n",
      "Epoch 23/100\n",
      "804/804 [==============================] - 1s 2ms/step - loss: 0.5492 - accuracy: 0.7338\n",
      "Epoch 24/100\n",
      "804/804 [==============================] - 1s 2ms/step - loss: 0.5490 - accuracy: 0.7338\n",
      "Epoch 25/100\n",
      "804/804 [==============================] - 1s 2ms/step - loss: 0.5487 - accuracy: 0.7329\n",
      "Epoch 26/100\n",
      "804/804 [==============================] - 1s 2ms/step - loss: 0.5491 - accuracy: 0.7331\n",
      "Epoch 27/100\n",
      "804/804 [==============================] - 1s 2ms/step - loss: 0.5488 - accuracy: 0.7329\n",
      "Epoch 28/100\n",
      "804/804 [==============================] - 1s 2ms/step - loss: 0.5484 - accuracy: 0.7329\n",
      "Epoch 29/100\n",
      "804/804 [==============================] - 1s 2ms/step - loss: 0.5485 - accuracy: 0.7332\n",
      "Epoch 30/100\n",
      "804/804 [==============================] - 1s 2ms/step - loss: 0.5482 - accuracy: 0.7338\n",
      "Epoch 31/100\n",
      "804/804 [==============================] - 1s 2ms/step - loss: 0.5480 - accuracy: 0.7330\n",
      "Epoch 32/100\n",
      "804/804 [==============================] - 1s 2ms/step - loss: 0.5478 - accuracy: 0.7334\n",
      "Epoch 33/100\n",
      "804/804 [==============================] - 1s 2ms/step - loss: 0.5480 - accuracy: 0.7331\n",
      "Epoch 34/100\n",
      "804/804 [==============================] - 1s 2ms/step - loss: 0.5475 - accuracy: 0.7333\n",
      "Epoch 35/100\n",
      "804/804 [==============================] - 1s 2ms/step - loss: 0.5476 - accuracy: 0.7336\n",
      "Epoch 36/100\n",
      "804/804 [==============================] - 1s 2ms/step - loss: 0.5477 - accuracy: 0.7338\n",
      "Epoch 37/100\n",
      "804/804 [==============================] - 1s 2ms/step - loss: 0.5479 - accuracy: 0.7329\n",
      "Epoch 38/100\n",
      "804/804 [==============================] - 1s 2ms/step - loss: 0.5473 - accuracy: 0.7330\n",
      "Epoch 39/100\n",
      "804/804 [==============================] - 1s 2ms/step - loss: 0.5471 - accuracy: 0.7335\n",
      "Epoch 40/100\n",
      "804/804 [==============================] - 1s 2ms/step - loss: 0.5472 - accuracy: 0.7331\n",
      "Epoch 41/100\n",
      "804/804 [==============================] - 1s 2ms/step - loss: 0.5475 - accuracy: 0.7327\n",
      "Epoch 42/100\n",
      "804/804 [==============================] - 1s 2ms/step - loss: 0.5472 - accuracy: 0.7336\n",
      "Epoch 43/100\n",
      "804/804 [==============================] - 1s 2ms/step - loss: 0.5468 - accuracy: 0.7334\n",
      "Epoch 44/100\n",
      "804/804 [==============================] - 1s 2ms/step - loss: 0.5469 - accuracy: 0.7331\n",
      "Epoch 45/100\n",
      "804/804 [==============================] - 1s 2ms/step - loss: 0.5469 - accuracy: 0.7334\n",
      "Epoch 46/100\n",
      "804/804 [==============================] - 1s 2ms/step - loss: 0.5468 - accuracy: 0.7331\n",
      "Epoch 47/100\n",
      "804/804 [==============================] - 1s 2ms/step - loss: 0.5467 - accuracy: 0.7334\n",
      "Epoch 48/100\n",
      "804/804 [==============================] - 1s 2ms/step - loss: 0.5462 - accuracy: 0.7330\n",
      "Epoch 49/100\n",
      "804/804 [==============================] - 1s 2ms/step - loss: 0.5463 - accuracy: 0.7330\n",
      "Epoch 50/100\n",
      "804/804 [==============================] - 1s 2ms/step - loss: 0.5465 - accuracy: 0.7329\n",
      "Epoch 51/100\n",
      "804/804 [==============================] - 1s 2ms/step - loss: 0.5462 - accuracy: 0.7328\n",
      "Epoch 52/100\n",
      "804/804 [==============================] - 1s 2ms/step - loss: 0.5461 - accuracy: 0.7333\n",
      "Epoch 53/100\n",
      "804/804 [==============================] - 1s 2ms/step - loss: 0.5460 - accuracy: 0.7339\n",
      "Epoch 54/100\n",
      "804/804 [==============================] - 1s 2ms/step - loss: 0.5459 - accuracy: 0.7338\n",
      "Epoch 55/100\n",
      "804/804 [==============================] - 1s 2ms/step - loss: 0.5461 - accuracy: 0.7325\n",
      "Epoch 56/100\n",
      "804/804 [==============================] - 1s 2ms/step - loss: 0.5456 - accuracy: 0.7337\n",
      "Epoch 57/100\n",
      "804/804 [==============================] - 1s 2ms/step - loss: 0.5459 - accuracy: 0.7334\n",
      "Epoch 58/100\n",
      "804/804 [==============================] - 1s 2ms/step - loss: 0.5459 - accuracy: 0.7340\n",
      "Epoch 59/100\n",
      "804/804 [==============================] - 1s 2ms/step - loss: 0.5457 - accuracy: 0.7336\n",
      "Epoch 60/100\n",
      "804/804 [==============================] - 1s 2ms/step - loss: 0.5456 - accuracy: 0.7337\n",
      "Epoch 61/100\n",
      "804/804 [==============================] - 1s 2ms/step - loss: 0.5454 - accuracy: 0.7337\n",
      "Epoch 62/100\n",
      "804/804 [==============================] - 1s 2ms/step - loss: 0.5457 - accuracy: 0.7332\n",
      "Epoch 63/100\n",
      "804/804 [==============================] - 1s 2ms/step - loss: 0.5456 - accuracy: 0.7336\n",
      "Epoch 64/100\n",
      "804/804 [==============================] - 1s 2ms/step - loss: 0.5457 - accuracy: 0.7338\n",
      "Epoch 65/100\n",
      "804/804 [==============================] - 1s 2ms/step - loss: 0.5454 - accuracy: 0.7337\n",
      "Epoch 66/100\n",
      "804/804 [==============================] - 1s 2ms/step - loss: 0.5452 - accuracy: 0.7337\n",
      "Epoch 67/100\n",
      "804/804 [==============================] - 1s 2ms/step - loss: 0.5451 - accuracy: 0.7342\n",
      "Epoch 68/100\n",
      "804/804 [==============================] - 1s 2ms/step - loss: 0.5455 - accuracy: 0.7330\n",
      "Epoch 69/100\n",
      "804/804 [==============================] - 1s 2ms/step - loss: 0.5451 - accuracy: 0.7338\n",
      "Epoch 70/100\n",
      "804/804 [==============================] - 1s 2ms/step - loss: 0.5452 - accuracy: 0.7337\n",
      "Epoch 71/100\n",
      "804/804 [==============================] - 1s 2ms/step - loss: 0.5451 - accuracy: 0.7336\n",
      "Epoch 72/100\n",
      "804/804 [==============================] - 1s 2ms/step - loss: 0.5452 - accuracy: 0.7338\n",
      "Epoch 73/100\n",
      "804/804 [==============================] - 1s 2ms/step - loss: 0.5452 - accuracy: 0.7338\n",
      "Epoch 74/100\n",
      "804/804 [==============================] - 1s 2ms/step - loss: 0.5453 - accuracy: 0.7337\n",
      "Epoch 75/100\n",
      "804/804 [==============================] - 1s 2ms/step - loss: 0.5453 - accuracy: 0.7345\n",
      "Epoch 76/100\n",
      "804/804 [==============================] - 1s 2ms/step - loss: 0.5452 - accuracy: 0.7338\n",
      "Epoch 77/100\n",
      "804/804 [==============================] - 1s 2ms/step - loss: 0.5452 - accuracy: 0.7342\n",
      "Epoch 78/100\n",
      "804/804 [==============================] - 1s 2ms/step - loss: 0.5452 - accuracy: 0.7339\n",
      "Epoch 79/100\n",
      "804/804 [==============================] - 1s 2ms/step - loss: 0.5449 - accuracy: 0.7343\n",
      "Epoch 80/100\n",
      "804/804 [==============================] - 1s 2ms/step - loss: 0.5454 - accuracy: 0.7339\n",
      "Epoch 81/100\n",
      "804/804 [==============================] - 1s 2ms/step - loss: 0.5451 - accuracy: 0.7343\n",
      "Epoch 82/100\n",
      "804/804 [==============================] - 1s 2ms/step - loss: 0.5452 - accuracy: 0.7341\n",
      "Epoch 83/100\n",
      "804/804 [==============================] - 1s 2ms/step - loss: 0.5451 - accuracy: 0.7341\n",
      "Epoch 84/100\n",
      "804/804 [==============================] - 1s 2ms/step - loss: 0.5451 - accuracy: 0.7340\n",
      "Epoch 85/100\n",
      "804/804 [==============================] - 1s 2ms/step - loss: 0.5449 - accuracy: 0.7335\n",
      "Epoch 86/100\n",
      "804/804 [==============================] - 1s 2ms/step - loss: 0.5449 - accuracy: 0.7345\n",
      "Epoch 87/100\n",
      "804/804 [==============================] - 1s 2ms/step - loss: 0.5450 - accuracy: 0.7346\n",
      "Epoch 88/100\n",
      "804/804 [==============================] - 1s 2ms/step - loss: 0.5450 - accuracy: 0.7341\n",
      "Epoch 89/100\n",
      "804/804 [==============================] - 1s 2ms/step - loss: 0.5450 - accuracy: 0.7336\n",
      "Epoch 90/100\n",
      "804/804 [==============================] - 1s 2ms/step - loss: 0.5451 - accuracy: 0.7339\n",
      "Epoch 91/100\n",
      "804/804 [==============================] - 1s 2ms/step - loss: 0.5451 - accuracy: 0.7343\n",
      "Epoch 92/100\n",
      "804/804 [==============================] - 1s 2ms/step - loss: 0.5450 - accuracy: 0.7336\n",
      "Epoch 93/100\n",
      "804/804 [==============================] - 1s 2ms/step - loss: 0.5448 - accuracy: 0.7343\n",
      "Epoch 94/100\n",
      "804/804 [==============================] - 1s 2ms/step - loss: 0.5450 - accuracy: 0.7343\n",
      "Epoch 95/100\n",
      "804/804 [==============================] - 1s 2ms/step - loss: 0.5447 - accuracy: 0.7347\n",
      "Epoch 96/100\n",
      "804/804 [==============================] - 1s 2ms/step - loss: 0.5450 - accuracy: 0.7351\n",
      "Epoch 97/100\n",
      "804/804 [==============================] - 1s 2ms/step - loss: 0.5447 - accuracy: 0.7345\n",
      "Epoch 98/100\n",
      "804/804 [==============================] - 1s 2ms/step - loss: 0.5450 - accuracy: 0.7345\n",
      "Epoch 99/100\n",
      "804/804 [==============================] - 1s 2ms/step - loss: 0.5449 - accuracy: 0.7348\n",
      "Epoch 100/100\n",
      "804/804 [==============================] - 2s 2ms/step - loss: 0.5446 - accuracy: 0.7345\n"
     ]
    }
   ],
   "source": [
    "# Train the model\n",
    "\n",
    "fit_model = nn.fit(X_train_scaled,y_train,epochs=100)"
   ]
  },
  {
   "cell_type": "code",
   "execution_count": 32,
   "metadata": {
    "colab": {
     "base_uri": "https://localhost:8080/"
    },
    "executionInfo": {
     "elapsed": 934,
     "status": "ok",
     "timestamp": 1636947526342,
     "user": {
      "displayName": "Ling Lu",
      "photoUrl": "https://lh3.googleusercontent.com/a-/AOh14GjkcN9FIXS8JJleW8MowIcg2yWO8DEZkig7Vh83=s64",
      "userId": "13650241475503593941"
     },
     "user_tz": 300
    },
    "id": "TXvEqjchdcof",
    "outputId": "6e650049-9fdf-4108-9240-e7c49e20e993"
   },
   "outputs": [
    {
     "name": "stdout",
     "output_type": "stream",
     "text": [
      "268/268 - 0s - loss: 0.5558 - accuracy: 0.7241 - 478ms/epoch - 2ms/step\n",
      "Loss: 0.5558027029037476, Accuracy: 0.7240816354751587\n"
     ]
    }
   ],
   "source": [
    "# Evaluate the model using the test data\n",
    "model_loss, model_accuracy = nn.evaluate(X_test_scaled,y_test,verbose=2)\n",
    "print(f\"Loss: {model_loss}, Accuracy: {model_accuracy}\")"
   ]
  },
  {
   "cell_type": "code",
   "execution_count": 39,
   "metadata": {
    "executionInfo": {
     "elapsed": 111,
     "status": "ok",
     "timestamp": 1636949497906,
     "user": {
      "displayName": "Ling Lu",
      "photoUrl": "https://lh3.googleusercontent.com/a-/AOh14GjkcN9FIXS8JJleW8MowIcg2yWO8DEZkig7Vh83=s64",
      "userId": "13650241475503593941"
     },
     "user_tz": 300
    },
    "id": "UIOi7PHMdcof"
   },
   "outputs": [],
   "source": [
    "# Export our model to HDF5 file\n",
    "nn.save(\"AlphabetSoupCharity.h5\")"
   ]
  }
 ],
 "metadata": {
  "colab": {
   "collapsed_sections": [],
   "name": "AlphabetSoupCharity.ipynb",
   "provenance": []
  },
  "kernelspec": {
   "display_name": "Python 3",
   "language": "python",
   "name": "python3"
  },
  "language_info": {
   "codemirror_mode": {
    "name": "ipython",
    "version": 3
   },
   "file_extension": ".py",
   "mimetype": "text/x-python",
   "name": "python",
   "nbconvert_exporter": "python",
   "pygments_lexer": "ipython3",
   "version": "3.8.2"
  }
 },
 "nbformat": 4,
 "nbformat_minor": 1
}
